{
 "cells": [
  {
   "cell_type": "markdown",
   "metadata": {},
   "source": [
    "\n",
    "<div class=\"alert alert-block alert-info\"><font size=\"5\"><center><b><u>S17 T01: Bases de dades relacionals\n",
    "\\begin{align*}Marc\\:Breysse\\end{align*}</div>"
   ]
  },
  {
   "cell_type": "markdown",
   "metadata": {},
   "source": [
    "<span style=color:blue>Aprendre a crear un model relacional i diagrama entitat-relació.</span>"
   ]
  },
  {
   "cell_type": "markdown",
   "metadata": {},
   "source": [
    "# <span style=color:darkblue>Nivell 1</span>"
   ]
  },
  {
   "cell_type": "markdown",
   "metadata": {},
   "source": [
    "<u style=color:blue>Exercici 1:</u>\n",
    "\n",
    "<span style=color:blue>Crea una base relacional d’exemple utilitzant un document de text o a mà. Dissenya-la perquè contingui les següents taules, i estableix les relacions que consideris necessàries entre elles:\n",
    "\n",
    "-\tTaula de compres (transaccions)\n",
    "\n",
    "-\tTaula d’establiments\n",
    "\n",
    "-\tTaula de treballadors\n",
    "\n",
    "-\tTaula de clients\n",
    "\n",
    "-\tTaula de productes\n",
    "\n",
    "-\tTaula de tipus de productes\n",
    "\n",
    "Defineix les propietats de les relacions (1:1, 1:n, n:n), i crea algunes de les variables que podrien contenir, per exemple:\n",
    "\n",
    "\n",
    "\n",
    "Taula d’establiments\n",
    "\n",
    "-\tIDestabliment (unique key)\n",
    "\n",
    "-\tNom\n",
    "\n",
    "-\tLocalització\n",
    "\n",
    "-\tSuperfície.</span>"
   ]
  },
  {
   "cell_type": "markdown",
   "metadata": {
    "ExecuteTime": {
     "end_time": "2021-06-17T05:37:37.514991Z",
     "start_time": "2021-06-17T05:37:37.490994Z"
    }
   },
   "source": [
    "<span style=color:green><b>Refer to powerpoint file 'Relational database_design'.</span>"
   ]
  },
  {
   "cell_type": "markdown",
   "metadata": {},
   "source": [
    "# <span style=color:darkblue>Nivell 2</span>"
   ]
  },
  {
   "cell_type": "markdown",
   "metadata": {},
   "source": [
    "<u style=color:blue>Exercici 2:</u>\n",
    "\n",
    "<span style=color:blue>Utilitza un programa de creació de diagrames entitat-relació com http://dia-installer.de per crear el diagrama..<span>"
   ]
  },
  {
   "cell_type": "markdown",
   "metadata": {
    "ExecuteTime": {
     "end_time": "2021-06-17T05:37:37.514991Z",
     "start_time": "2021-06-17T05:37:37.490994Z"
    }
   },
   "source": [
    "<span style=color:green><b>Refer to dia file 'Relacional database'.</span>"
   ]
  },
  {
   "cell_type": "markdown",
   "metadata": {},
   "source": [
    "# <span style=color:darkblue>Nivell 3</span>"
   ]
  },
  {
   "cell_type": "markdown",
   "metadata": {},
   "source": [
    "<u style=color:blue>Exercici 3:</u>\n",
    "\n",
    "<span style=color:blue>Utilitza el Workbench de MySQL per crear un model relacional. .<span>\n"
   ]
  },
  {
   "cell_type": "markdown",
   "metadata": {
    "ExecuteTime": {
     "end_time": "2021-06-17T05:37:37.514991Z",
     "start_time": "2021-06-17T05:37:37.490994Z"
    }
   },
   "source": [
    "<span style=color:green><b>Refer to file 'Relational model_MySQL Workbench'.</span>"
   ]
  }
 ],
 "metadata": {
  "kernelspec": {
   "display_name": "Python 3",
   "language": "python",
   "name": "python3"
  },
  "language_info": {
   "codemirror_mode": {
    "name": "ipython",
    "version": 3
   },
   "file_extension": ".py",
   "mimetype": "text/x-python",
   "name": "python",
   "nbconvert_exporter": "python",
   "pygments_lexer": "ipython3",
   "version": "3.8.5"
  },
  "toc": {
   "base_numbering": 1,
   "nav_menu": {},
   "number_sections": true,
   "sideBar": true,
   "skip_h1_title": false,
   "title_cell": "Table of Contents",
   "title_sidebar": "Contents",
   "toc_cell": false,
   "toc_position": {},
   "toc_section_display": true,
   "toc_window_display": false
  }
 },
 "nbformat": 4,
 "nbformat_minor": 4
}
