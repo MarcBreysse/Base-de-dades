{
 "cells": [
  {
   "cell_type": "markdown",
   "metadata": {},
   "source": [
    "\n",
    "<div class=\"alert alert-block alert-info\"><font size=\"5\"><center><b><u>S17 T02: Base de dades MySQL\n",
    "\\begin{align*}Marc\\:Breysse\\end{align*}</div>"
   ]
  },
  {
   "cell_type": "markdown",
   "metadata": {},
   "source": [
    "<span style=color:blue>Crear base de dades amb MySQL.</span>"
   ]
  },
  {
   "cell_type": "markdown",
   "metadata": {},
   "source": [
    "# <span style=color:darkblue>Nivell 1</span>"
   ]
  },
  {
   "cell_type": "markdown",
   "metadata": {},
   "source": [
    "<u style=color:blue>Exercici 1:</u>\n",
    "\n",
    "<span style=color:blue>Crea una base de dades relacionals senzilla utilitzant MySQL(https://www.mysql.com/) i connecta-la a Python</span>"
   ]
  },
  {
   "cell_type": "code",
   "execution_count": 13,
   "metadata": {
    "ExecuteTime": {
     "end_time": "2021-06-18T12:36:08.058366Z",
     "start_time": "2021-06-18T12:36:07.953155Z"
    }
   },
   "outputs": [
    {
     "name": "stdout",
     "output_type": "stream",
     "text": [
      "<mysql.connector.connection_cext.CMySQLConnection object at 0x000001AA16B1ACA0>\n",
      "Connection successful\n"
     ]
    }
   ],
   "source": [
    "# Use of a downloaded database so that no need to include data -> refer to SQL script\n",
    "\n",
    "# Connection of Pyhton to MySQL\n",
    "\n",
    "import mysql.connector as mysql\n",
    "\n",
    "mydb = mysql.connect(host='localhost', user='root', password='Eliot2010')\n",
    "print(mydb)\n",
    "\n",
    "if(mydb):\n",
    "    print('Connection successful')\n",
    "else:\n",
    "    print('connection unsuccessfull')"
   ]
  },
  {
   "cell_type": "code",
   "execution_count": 14,
   "metadata": {
    "ExecuteTime": {
     "end_time": "2021-06-18T12:36:08.559025Z",
     "start_time": "2021-06-18T12:36:08.519766Z"
    }
   },
   "outputs": [
    {
     "name": "stdout",
     "output_type": "stream",
     "text": [
      "('database_s17_02',)\n",
      "('information_schema',)\n",
      "('mysql',)\n",
      "('performance_schema',)\n",
      "('sakila',)\n",
      "('sys',)\n"
     ]
    }
   ],
   "source": [
    "# Verification of MySQL database list connected\n",
    "\n",
    "mycursor = mydb.cursor()\n",
    "mycursor.execute('Show databases')\n",
    "\n",
    "for db in mycursor:\n",
    "    print(db)"
   ]
  },
  {
   "cell_type": "markdown",
   "metadata": {},
   "source": [
    "# <span style=color:darkblue>Nivell 2</span>"
   ]
  },
  {
   "cell_type": "markdown",
   "metadata": {},
   "source": [
    "<u style=color:blue>Exercici 2:</u>\n",
    "\n",
    "<span style=color:blue>Mostra que pots carregar algunes consultes senzilles a un Pandas Dataframe.<span>"
   ]
  },
  {
   "cell_type": "code",
   "execution_count": 15,
   "metadata": {
    "ExecuteTime": {
     "end_time": "2021-06-18T12:36:10.187840Z",
     "start_time": "2021-06-18T12:36:10.139859Z"
    }
   },
   "outputs": [],
   "source": [
    "import pandas as pd\n",
    "\n",
    "db = mysql.connect(\n",
    "    host = \"localhost\",\n",
    "    user = \"root\",\n",
    "    passwd = \"Eliot2010\",\n",
    "    database = \"database_s17_02\"\n",
    ")\n",
    "\n",
    "cursor = db.cursor()"
   ]
  },
  {
   "cell_type": "code",
   "execution_count": 16,
   "metadata": {
    "ExecuteTime": {
     "end_time": "2021-06-18T12:36:10.685974Z",
     "start_time": "2021-06-18T12:36:10.668983Z"
    }
   },
   "outputs": [
    {
     "name": "stdout",
     "output_type": "stream",
     "text": [
      "('A007  ', 'Ramasundar                              ', 'Bangalore                          ', Decimal('0.15'), '077-25814763   ', '\\r')\n",
      "('A003  ', 'Alex                                    ', 'London                             ', Decimal('0.13'), '075-12458969   ', '\\r')\n",
      "('A008  ', 'Alford                                  ', 'New York                           ', Decimal('0.12'), '044-25874365   ', '\\r')\n",
      "('A011  ', 'Ravi Kumar                              ', 'Bangalore                          ', Decimal('0.15'), '077-45625874   ', '\\r')\n",
      "('A010  ', 'Santakumar                              ', 'Chennai                            ', Decimal('0.14'), '007-22388644   ', '\\r')\n",
      "('A012  ', 'Lucida                                  ', 'San Jose                           ', Decimal('0.12'), '044-52981425   ', '\\r')\n",
      "('A005  ', 'Anderson                                ', 'Brisban                            ', Decimal('0.13'), '045-21447739   ', '\\r')\n",
      "('A001  ', 'Subbarao                                ', 'Bangalore                          ', Decimal('0.14'), '077-12346674   ', '\\r')\n",
      "('A002  ', 'Mukesh                                  ', 'Mumbai                             ', Decimal('0.11'), '029-12358964   ', '\\r')\n",
      "('A006  ', 'McDen                                   ', 'London                             ', Decimal('0.15'), '078-22255588   ', '\\r')\n",
      "('A004  ', 'Ivan                                    ', 'Torento                            ', Decimal('0.15'), '008-22544166   ', '\\r')\n",
      "('A009  ', 'Benjamin                                ', 'Hampshair                          ', Decimal('0.11'), '008-22536178   ', '\\r')\n"
     ]
    }
   ],
   "source": [
    "# getting records from the table 'agents'\n",
    "\n",
    "query = \"SELECT * FROM agents\"\n",
    "cursor.execute(query)\n",
    "records = cursor.fetchall()\n",
    "for record in records:\n",
    "    print(record)"
   ]
  },
  {
   "cell_type": "code",
   "execution_count": 17,
   "metadata": {
    "ExecuteTime": {
     "end_time": "2021-06-18T12:36:11.263330Z",
     "start_time": "2021-06-18T12:36:11.236342Z"
    }
   },
   "outputs": [
    {
     "name": "stdout",
     "output_type": "stream",
     "text": [
      "('16', 'Akas Foods', 'Delhi\\r')\n",
      "('17', 'Foodies.', 'London\\r')\n",
      "('15', 'Jack Hill Ltd', 'London\\r')\n",
      "('18', 'Order All', 'Boston\\r')\n",
      "('19', 'sip-n-Bite.', 'New York\\r')\n"
     ]
    }
   ],
   "source": [
    "# Order company by 'company name'\n",
    "\n",
    "query = \"SELECT * FROM company ORDER BY COMPANY_NAME\"\n",
    "cursor.execute(query)\n",
    "records = cursor.fetchall()\n",
    "for record in records:\n",
    "    print(record)"
   ]
  },
  {
   "cell_type": "code",
   "execution_count": 18,
   "metadata": {
    "ExecuteTime": {
     "end_time": "2021-06-18T12:36:11.840123Z",
     "start_time": "2021-06-18T12:36:11.792147Z"
    }
   },
   "outputs": [
    {
     "name": "stdout",
     "output_type": "stream",
     "text": [
      "Total departments with count : \n",
      " \n",
      "C00015 : 3500.00\n",
      "C00019 : 3000.00\n",
      "C00007 : 10500.00\n",
      "C00016 : 2000.00\n",
      "C00022 : 5000.00\n",
      "C00012 : 2900.00\n",
      "C00002 : 3500.00\n",
      "C00003 : 2500.00\n",
      "C00023 : 500.00\n",
      "C00008 : 5500.00\n",
      "C00025 : 5000.00\n",
      "C00004 : 4200.00\n",
      "C00013 : 6000.00\n",
      "C00021 : 1500.00\n",
      "C00011 : 3500.00\n",
      "C00001 : 3000.00\n",
      "C00020 : 1000.00\n",
      "C00006 : 1500.00\n",
      "C00005 : 2500.00\n",
      "C00018 : 2000.00\n",
      "C00014 : 800.00\n",
      "C00009 : 5200.00\n",
      "C00010 : 500.00\n",
      "C00017 : 500.00\n",
      "C00024 : 2500.00\n"
     ]
    }
   ],
   "source": [
    "# Groupby 'order amount' from each customer\n",
    "\n",
    "find = \"SELECT CUST_CODE,sum(ORD_AMOUNT) from \\\n",
    "orders GROUP BY(CUST_CODE)\";\n",
    "cursor.execute(find) \n",
    "  \n",
    "# fetching all results\n",
    "data = cursor.fetchall() \n",
    "print(\"Total departments with count : \")\n",
    "print(\" \")\n",
    "for res in data: \n",
    "    print(res[0],res[1],sep=\" : \")  "
   ]
  },
  {
   "cell_type": "code",
   "execution_count": 19,
   "metadata": {
    "ExecuteTime": {
     "end_time": "2021-06-18T12:36:12.371233Z",
     "start_time": "2021-06-18T12:36:12.354246Z"
    }
   },
   "outputs": [
    {
     "name": "stdout",
     "output_type": "stream",
     "text": [
      "('Mukesh                                  ', Decimal('0.11'))\n",
      "('Benjamin                                ', Decimal('0.11'))\n",
      "('Alford                                  ', Decimal('0.12'))\n",
      "('Lucida                                  ', Decimal('0.12'))\n",
      "('Alex                                    ', Decimal('0.13'))\n",
      "('Anderson                                ', Decimal('0.13'))\n",
      "('Santakumar                              ', Decimal('0.14'))\n",
      "('Subbarao                                ', Decimal('0.14'))\n",
      "('Ramasundar                              ', Decimal('0.15'))\n",
      "('Ravi Kumar                              ', Decimal('0.15'))\n",
      "('McDen                                   ', Decimal('0.15'))\n",
      "('Ivan                                    ', Decimal('0.15'))\n"
     ]
    }
   ],
   "source": [
    "# Order 'comission' from agents from lower to higher\n",
    "\n",
    "query = \"SELECT AGENT_NAME, COMMISSION FROM agents ORDER BY COMMISSION\"\n",
    "# query = \"SELECT * FROM agents ORDER BY COMMISSION\"      # to select all columns\n",
    "cursor.execute(query)\n",
    "records = cursor.fetchall()\n",
    "for record in records:\n",
    "    print(record)"
   ]
  },
  {
   "cell_type": "markdown",
   "metadata": {},
   "source": [
    "# <span style=color:darkblue>Nivell 3</span>"
   ]
  },
  {
   "cell_type": "markdown",
   "metadata": {},
   "source": [
    "<u style=color:blue>Exercici 3:</u>\n",
    "\n",
    "<span style=color:blue>Genera algun gràfic que resumeixi les dades.<span>\n"
   ]
  },
  {
   "cell_type": "code",
   "execution_count": 20,
   "metadata": {
    "ExecuteTime": {
     "end_time": "2021-06-18T12:36:14.014147Z",
     "start_time": "2021-06-18T12:36:14.001156Z"
    }
   },
   "outputs": [],
   "source": [
    "import numpy as np\n",
    "import matplotlib.pyplot as plt "
   ]
  },
  {
   "cell_type": "code",
   "execution_count": 21,
   "metadata": {
    "ExecuteTime": {
     "end_time": "2021-06-18T12:36:15.074287Z",
     "start_time": "2021-06-18T12:36:14.551582Z"
    }
   },
   "outputs": [
    {
     "data": {
      "image/png": "[encoded data removed]",
      "text/plain": [
       "<Figure size 432x288 with 1 Axes>"
      ]
     },
     "metadata": {
      "needs_background": "light"
     },
     "output_type": "display_data"
    }
   ],
   "source": [
    "# Plot of the commission of each agent\n",
    "\n",
    "cursor.execute(\"select AGENT_NAME, COMMISSION from agents\")\n",
    "result = cursor.fetchall\n",
    "\n",
    "AGENT_NAME = []\n",
    "COMMISSION = []\n",
    "  \n",
    "for i in cursor:\n",
    "    AGENT_NAME.append(i[0])\n",
    "    COMMISSION.append(i[1])\n",
    "\n",
    "# Visulizing Data using Matplotlib\n",
    "plt.bar(AGENT_NAME, COMMISSION)\n",
    "plt.ylim(0, 0.5)\n",
    "plt.xlabel(\"Name of agents\")\n",
    "plt.xticks(rotation=45)\n",
    "plt.ylabel(\"Commission\")\n",
    "plt.title(\"Commission from agents\")\n",
    "plt.show()"
   ]
  }
 ],
 "metadata": {
  "kernelspec": {
   "display_name": "Python 3",
   "language": "python",
   "name": "python3"
  },
  "language_info": {
   "codemirror_mode": {
    "name": "ipython",
    "version": 3
   },
   "file_extension": ".py",
   "mimetype": "text/x-python",
   "name": "python",
   "nbconvert_exporter": "python",
   "pygments_lexer": "ipython3",
   "version": "3.8.5"
  },
  "toc": {
   "base_numbering": 1,
   "nav_menu": {},
   "number_sections": true,
   "sideBar": true,
   "skip_h1_title": false,
   "title_cell": "Table of Contents",
   "title_sidebar": "Contents",
   "toc_cell": false,
   "toc_position": {},
   "toc_section_display": true,
   "toc_window_display": false
  }
 },
 "nbformat": 4,
 "nbformat_minor": 4
}
